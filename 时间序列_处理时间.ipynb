{
 "cells": [
  {
   "cell_type": "markdown",
   "metadata": {},
   "source": [
    "### 时间序列分析"
   ]
  },
  {
   "cell_type": "code",
   "execution_count": 2,
   "metadata": {},
   "outputs": [],
   "source": [
    "import pandas as pd  \n",
    "import numpy as np\n",
    "import matplotlib.pyplot as plt\n",
    "%matplotlib inline   \n",
    "\n",
    "#正常显示画图时出现的中文和负号\n",
    "from pylab import mpl\n",
    "mpl.rcParams['font.sans-serif']=['SimHei']\n",
    "mpl.rcParams['axes.unicode_minus']=False"
   ]
  },
  {
   "cell_type": "markdown",
   "metadata": {},
   "source": [
    "时间类型及其在python中对应的类型\n",
    "- 时间戳：timestamp\n",
    "- 时间间隔：timedelta\n",
    "- 时期：period"
   ]
  },
  {
   "cell_type": "code",
   "execution_count": 84,
   "metadata": {},
   "outputs": [
    {
     "data": {
      "text/plain": [
       "Period('2019', 'A-DEC')"
      ]
     },
     "execution_count": 84,
     "metadata": {},
     "output_type": "execute_result"
    }
   ],
   "source": [
    "p=pd.Period(2019,freq='A-DEC')\n",
    "p"
   ]
  },
  {
   "cell_type": "code",
   "execution_count": 85,
   "metadata": {},
   "outputs": [
    {
     "data": {
      "text/plain": [
       "Period('2014', 'A-DEC')"
      ]
     },
     "execution_count": 85,
     "metadata": {},
     "output_type": "execute_result"
    }
   ],
   "source": [
    "p-5"
   ]
  },
  {
   "cell_type": "markdown",
   "metadata": {},
   "source": [
    "period_range函数创建时期范围\n"
   ]
  },
  {
   "cell_type": "code",
   "execution_count": 95,
   "metadata": {},
   "outputs": [],
   "source": [
    "date=pd.period_range('2018-01-01','2019-01-10',freq='Q')"
   ]
  },
  {
   "cell_type": "code",
   "execution_count": 96,
   "metadata": {},
   "outputs": [
    {
     "data": {
      "text/plain": [
       "2018Q1    0.494494\n",
       "2018Q2   -0.001953\n",
       "2018Q3   -1.231664\n",
       "2018Q4    0.875689\n",
       "2019Q1   -0.010776\n",
       "Freq: Q-DEC, dtype: float64"
      ]
     },
     "execution_count": 96,
     "metadata": {},
     "output_type": "execute_result"
    }
   ],
   "source": [
    "df=pd.Series(np.random.randn(len(date)),index=date)\n",
    "df"
   ]
  },
  {
   "cell_type": "code",
   "execution_count": 94,
   "metadata": {},
   "outputs": [
    {
     "data": {
      "text/plain": [
       "PeriodIndex(['2018Q1', '2018Q2', '2018Q3'], dtype='period[Q-DEC]', freq='Q-DEC')"
      ]
     },
     "execution_count": 94,
     "metadata": {},
     "output_type": "execute_result"
    }
   ],
   "source": [
    "#PeriodIndex类的构造函数允许直接使用一组字符串表示一段时期\n",
    "values = ['2018Q1','2018Q2','2018Q3']\n",
    "index = pd.PeriodIndex(values,freq='Q-DEC')\n",
    "index"
   ]
  },
  {
   "cell_type": "code",
   "execution_count": null,
   "metadata": {},
   "outputs": [],
   "source": []
  },
  {
   "cell_type": "code",
   "execution_count": null,
   "metadata": {},
   "outputs": [],
   "source": []
  },
  {
   "cell_type": "markdown",
   "metadata": {},
   "source": [
    "# datetime处理日期"
   ]
  },
  {
   "cell_type": "markdown",
   "metadata": {},
   "source": [
    "python常用的处理时间的库有：datetime,time,calendar。datetime库包括了date（储存日期：(年、月、日),time(储存时间：(小时、分、秒和微秒)，datetime同时包含了data和time，timedelta代表两个datetime之间的差（天、秒、微秒）。"
   ]
  },
  {
   "cell_type": "code",
   "execution_count": 4,
   "metadata": {},
   "outputs": [
    {
     "name": "stdout",
     "output_type": "stream",
     "text": [
      "当前时间：2019-01-10 21:24:23.101667\n",
      "2019年1月10日\n"
     ]
    }
   ],
   "source": [
    "from datetime import datetime\n",
    "now=datetime.now()\n",
    "print(f'当前时间：{now}')\n",
    "print(f'{now.year}年{now.month}月{now.day}日')"
   ]
  },
  {
   "cell_type": "code",
   "execution_count": 3,
   "metadata": {},
   "outputs": [
    {
     "data": {
      "text/plain": [
       "'2019-01-10'"
      ]
     },
     "execution_count": 3,
     "metadata": {},
     "output_type": "execute_result"
    }
   ],
   "source": [
    "now.strftime('%Y-%m-%d')"
   ]
  },
  {
   "cell_type": "markdown",
   "metadata": {},
   "source": [
    "timedelta计算相差天数和秒数"
   ]
  },
  {
   "cell_type": "code",
   "execution_count": 14,
   "metadata": {},
   "outputs": [
    {
     "data": {
      "text/plain": [
       "datetime.timedelta(days=8, seconds=41400)"
      ]
     },
     "execution_count": 14,
     "metadata": {},
     "output_type": "execute_result"
    }
   ],
   "source": [
    "delta=datetime(2019,1,10)-datetime(2019,1,1,12,30)\n",
    "delta"
   ]
  },
  {
   "cell_type": "code",
   "execution_count": 13,
   "metadata": {},
   "outputs": [
    {
     "data": {
      "text/plain": [
       "datetime.datetime(2018, 2, 20, 0, 0)"
      ]
     },
     "execution_count": 13,
     "metadata": {},
     "output_type": "execute_result"
    }
   ],
   "source": [
    "from datetime import timedelta\n",
    "start=datetime(2018,1,1)\n",
    "#计算50天后是哪一天\n",
    "start+timedelta(50)"
   ]
  },
  {
   "cell_type": "code",
   "execution_count": 11,
   "metadata": {},
   "outputs": [
    {
     "data": {
      "text/plain": [
       "datetime.timedelta(days=9)"
      ]
     },
     "execution_count": 11,
     "metadata": {},
     "output_type": "execute_result"
    }
   ],
   "source": [
    "#字符串和时间的转化\n",
    "#比如想要知道列表里两个时间字符串之间相差多少天\n",
    "datestr=['12/20/2018','12/11/2018']\n",
    "new_date=[datetime.strptime(d,'%m/%d/%Y') for d in datestr]\n",
    "new_date[0]-new_date[1]"
   ]
  },
  {
   "cell_type": "code",
   "execution_count": 13,
   "metadata": {},
   "outputs": [
    {
     "data": {
      "text/plain": [
       "['2018-12-20', '2018-12-11']"
      ]
     },
     "execution_count": 13,
     "metadata": {},
     "output_type": "execute_result"
    }
   ],
   "source": [
    "#将datetime格式转换为常见的年（Y）月（m）日（d）格式表示\n",
    "[date.strftime('%Y-%m-%d') for date in new_date]"
   ]
  },
  {
   "cell_type": "markdown",
   "metadata": {},
   "source": [
    "datetime.strptime只能根据设定的时间格式来处理指定的字符串，如果列表里(list)包含不止一种格式的字符串，如datestr=\\['12/20/2018','12/11/2018','2018-10-18'\\],使用datetime.strptime就很难处理了。遇到这种情况可以引入第三方时间处理包dateutil，可以处理任意格式字符串。"
   ]
  },
  {
   "cell_type": "code",
   "execution_count": 24,
   "metadata": {},
   "outputs": [
    {
     "name": "stdout",
     "output_type": "stream",
     "text": [
      "datetime格式：\n",
      "[datetime.datetime(2018, 12, 20, 0, 0), datetime.datetime(2018, 2, 10, 0, 0), datetime.datetime(2019, 1, 10, 0, 0)]\n",
      "\"月/日/年\"格式：\n",
      " ['12/20/2018', '02/10/2018', '01/10/2019']\n",
      "\"年月日\"格式：\n",
      "['20181220', '20180210', '20190110']\n",
      "\"年-月-日格式\"：\n",
      "['2018-12-20', '2018-02-10', '2019-01-10']\n",
      "\"年（后两位）-月-日\"格式：\n",
      "['18-12-20', '18-02-10', '19-01-10']\n"
     ]
    }
   ],
   "source": [
    "from dateutil.parser import parse\n",
    "datestr=['12/20/2018','20180210','2019-01-10']\n",
    "#转换成datetime格式\n",
    "new_d=[parse(d) for d in datestr]\n",
    "#统一为12/20/2018格式\n",
    "d1=[d.strftime('%m/%d/%Y') for d in new_d]\n",
    "d2=[d.strftime('%Y%m%d') for d in new_d]\n",
    "d3=[d.strftime('%Y-%m-%d') for d in new_d]\n",
    "d4=[d.strftime('%y-%m-%d') for d in new_d]\n",
    "print(f'datetime格式：\\n{new_d}')\n",
    "print(f'\"月/日/年\"格式：\\n {d1}')\n",
    "print(f'\"年月日\"格式：\\n{d2}')\n",
    "print(f'\"年-月-日格式\"：\\n{d3}')\n",
    "print(f'\"年（后两位）-月-日\"格式：\\n{d4}')"
   ]
  },
  {
   "cell_type": "markdown",
   "metadata": {},
   "source": [
    "# 使用NumPy库处理日期\n",
    "numpy库的时间格式是datetime64"
   ]
  },
  {
   "cell_type": "code",
   "execution_count": 26,
   "metadata": {},
   "outputs": [
    {
     "data": {
      "text/plain": [
       "numpy.datetime64('2019-01-10')"
      ]
     },
     "execution_count": 26,
     "metadata": {},
     "output_type": "execute_result"
    }
   ],
   "source": [
    "#将字符串转换成numpy格式时间\n",
    "#注意个位前补0，如1月写成01\n",
    "nd=np.datetime64('2019-01-10')\n",
    "nd"
   ]
  },
  {
   "cell_type": "code",
   "execution_count": 30,
   "metadata": {},
   "outputs": [
    {
     "data": {
      "text/plain": [
       "'2019-01-10'"
      ]
     },
     "execution_count": 30,
     "metadata": {},
     "output_type": "execute_result"
    }
   ],
   "source": [
    "#转化为字符串\n",
    "np.datetime_as_string(nd)"
   ]
  },
  {
   "cell_type": "code",
   "execution_count": 29,
   "metadata": {},
   "outputs": [
    {
     "data": {
      "text/plain": [
       "numpy.datetime64('1901')"
      ]
     },
     "execution_count": 29,
     "metadata": {},
     "output_type": "execute_result"
    }
   ],
   "source": [
    "np.datetime64('1901')"
   ]
  },
  {
   "cell_type": "code",
   "execution_count": 31,
   "metadata": {},
   "outputs": [
    {
     "data": {
      "text/plain": [
       "datetime.date(2019, 1, 10)"
      ]
     },
     "execution_count": 31,
     "metadata": {},
     "output_type": "execute_result"
    }
   ],
   "source": [
    "#转化为datetime格式\n",
    "nd.astype(datetime)"
   ]
  },
  {
   "cell_type": "code",
   "execution_count": 32,
   "metadata": {},
   "outputs": [
    {
     "data": {
      "text/plain": [
       "array(['2019-01-05', '2019-01-06', '2019-01-07', '2019-01-08',\n",
       "       '2019-01-09'], dtype='datetime64[D]')"
      ]
     },
     "execution_count": 32,
     "metadata": {},
     "output_type": "execute_result"
    }
   ],
   "source": [
    "#生成时间序列\n",
    "#默认以日为间隔，算头不算尾\n",
    "np.arange('2019-01-05','2019-01-10',dtype='datetime64')"
   ]
  },
  {
   "cell_type": "code",
   "execution_count": 37,
   "metadata": {},
   "outputs": [
    {
     "data": {
      "text/plain": [
       "array(['2018-01', '2018-02', '2018-03', '2018-04', '2018-05', '2018-06',\n",
       "       '2018-07', '2018-08', '2018-09', '2018-10', '2018-11', '2018-12'],\n",
       "      dtype='datetime64[M]')"
      ]
     },
     "execution_count": 37,
     "metadata": {},
     "output_type": "execute_result"
    }
   ],
   "source": [
    "#以月为间隔，生成2018年12个月\n",
    "np.arange('2018-01-01','2019-01-01',dtype='datetime64[M]')"
   ]
  },
  {
   "cell_type": "code",
   "execution_count": 39,
   "metadata": {},
   "outputs": [
    {
     "data": {
      "text/plain": [
       "array(['2015', '2016', '2017', '2018'], dtype='datetime64[Y]')"
      ]
     },
     "execution_count": 39,
     "metadata": {},
     "output_type": "execute_result"
    }
   ],
   "source": [
    "#以年为间隔\n",
    "np.arange('2015-01-01','2019-01-20',dtype='datetime64[Y]')"
   ]
  },
  {
   "cell_type": "code",
   "execution_count": 40,
   "metadata": {},
   "outputs": [
    {
     "data": {
      "text/plain": [
       "array(['2018-11-29', '2018-12-06', '2018-12-13'], dtype='datetime64[W]')"
      ]
     },
     "execution_count": 40,
     "metadata": {},
     "output_type": "execute_result"
    }
   ],
   "source": [
    "#以周为间隔\n",
    "np.arange('2018-12-01','2018-12-20',dtype='datetime64[W]')"
   ]
  },
  {
   "cell_type": "code",
   "execution_count": 10,
   "metadata": {},
   "outputs": [
    {
     "data": {
      "image/png": "[encoded data removed]",
      "text/plain": [
       "<Figure size 864x432 with 1 Axes>"
      ]
     },
     "metadata": {
      "needs_background": "light"
     },
     "output_type": "display_data"
    }
   ],
   "source": [
    "#设定随机种子（括号里的数字只是起标记作用）\n",
    "np.random.seed(1)\n",
    "#h:小时，m:分，s：秒，ms微秒\n",
    "#生成分时\n",
    "x=np.arange('2019-01-10T00:00:00','2019-01-10T23:00:00',dtype='datetime64[m]')\n",
    "#生成标准正态分布时间序列\n",
    "y=np.random.standard_normal(len(x))\n",
    "#设置图片大小\n",
    "fig=plt.figure(figsize=(12,6))\n",
    "#将x的np.datetime转换为datetime.datetime\n",
    "plt.plot(x.astype(datetime),y)\n",
    "fig.autofmt_xdate()\n",
    "plt.title('模拟23小时内每分钟正态分布的随机数分布')\n",
    "# 将右边 上边的两条边颜色设置为空 其实就相当于抹掉这两条边\n",
    "ax = plt.gca()  \n",
    "ax.spines['right'].set_color('none') \n",
    "ax.spines['top'].set_color('none')  \n",
    "plt.show()"
   ]
  },
  {
   "cell_type": "markdown",
   "metadata": {},
   "source": [
    "# Pandas库处理日期\n",
    "Pandas包可以说是为处理时间序列而生的。日期时间在pandas储存的格式为Timestamp。"
   ]
  },
  {
   "cell_type": "code",
   "execution_count": null,
   "metadata": {},
   "outputs": [],
   "source": []
  },
  {
   "cell_type": "code",
   "execution_count": 18,
   "metadata": {},
   "outputs": [
    {
     "data": {
      "text/plain": [
       "Timestamp('2019-01-10 00:00:00')"
      ]
     },
     "execution_count": 18,
     "metadata": {},
     "output_type": "execute_result"
    }
   ],
   "source": [
    "t=pd.Timestamp('2019-01-10')\n",
    "t"
   ]
  },
  {
   "cell_type": "code",
   "execution_count": 19,
   "metadata": {},
   "outputs": [
    {
     "data": {
      "text/plain": [
       "numpy.datetime64('2019-01-10T00:00:00.000000000')"
      ]
     },
     "execution_count": 19,
     "metadata": {},
     "output_type": "execute_result"
    }
   ],
   "source": [
    "#将Timestamp转换为numpy.datetime64\n",
    "d = t.to_datetime64()\n",
    "d"
   ]
  },
  {
   "cell_type": "code",
   "execution_count": 20,
   "metadata": {},
   "outputs": [
    {
     "data": {
      "text/plain": [
       "DatetimeIndex(['2018-12-01', '2018-12-02', '2018-12-03'], dtype='datetime64[ns]', freq=None)"
      ]
     },
     "execution_count": 20,
     "metadata": {},
     "output_type": "execute_result"
    }
   ],
   "source": [
    "#转化为Timestamp\n",
    "dstr=['20181201','20181202','20181203']\n",
    "#DatetimeIndex\n",
    "pd.to_datetime(dstr)"
   ]
  },
  {
   "cell_type": "code",
   "execution_count": 78,
   "metadata": {},
   "outputs": [
    {
     "data": {
      "text/plain": [
       "DatetimeIndex(['2018-01-31', '2018-02-28', '2018-03-31', '2018-04-30',\n",
       "               '2018-05-31', '2018-06-30', '2018-07-31', '2018-08-31',\n",
       "               '2018-09-30', '2018-10-31', '2018-11-30', '2018-12-31'],\n",
       "              dtype='datetime64[ns]', freq='M')"
      ]
     },
     "execution_count": 78,
     "metadata": {},
     "output_type": "execute_result"
    }
   ],
   "source": [
    "#使用date_range生成日期序列\n",
    "dt = pd.date_range('2018/01/01', freq='M', periods=12)\n",
    "dt"
   ]
  },
  {
   "cell_type": "code",
   "execution_count": 79,
   "metadata": {},
   "outputs": [
    {
     "data": {
      "text/plain": [
       "Timestamp('2018-03-31 00:00:00', freq='M')"
      ]
     },
     "execution_count": 79,
     "metadata": {},
     "output_type": "execute_result"
    }
   ],
   "source": [
    "dt[2]"
   ]
  },
  {
   "cell_type": "code",
   "execution_count": 82,
   "metadata": {},
   "outputs": [
    {
     "data": {
      "text/plain": [
       "array([datetime.datetime(2018, 1, 31, 0, 0),\n",
       "       datetime.datetime(2018, 2, 28, 0, 0),\n",
       "       datetime.datetime(2018, 3, 31, 0, 0),\n",
       "       datetime.datetime(2018, 4, 30, 0, 0),\n",
       "       datetime.datetime(2018, 5, 31, 0, 0),\n",
       "       datetime.datetime(2018, 6, 30, 0, 0),\n",
       "       datetime.datetime(2018, 7, 31, 0, 0),\n",
       "       datetime.datetime(2018, 8, 31, 0, 0),\n",
       "       datetime.datetime(2018, 9, 30, 0, 0),\n",
       "       datetime.datetime(2018, 10, 31, 0, 0),\n",
       "       datetime.datetime(2018, 11, 30, 0, 0),\n",
       "       datetime.datetime(2018, 12, 31, 0, 0)], dtype=object)"
      ]
     },
     "execution_count": 82,
     "metadata": {},
     "output_type": "execute_result"
    }
   ],
   "source": [
    "#转为化datetime对象\n",
    "dty=dt.to_pydatetime()\n",
    "dty"
   ]
  },
  {
   "cell_type": "code",
   "execution_count": 83,
   "metadata": {},
   "outputs": [
    {
     "data": {
      "text/plain": [
       "DatetimeIndex(['2018-01-31', '2018-02-28', '2018-03-31', '2018-04-30',\n",
       "               '2018-05-31', '2018-06-30', '2018-07-31', '2018-08-31',\n",
       "               '2018-09-30', '2018-10-31', '2018-11-30', '2018-12-31'],\n",
       "              dtype='datetime64[ns]', freq=None)"
      ]
     },
     "execution_count": 83,
     "metadata": {},
     "output_type": "execute_result"
    }
   ],
   "source": [
    "#转化回pdans的视角类型\n",
    "pd.DatetimeIndex(dty)"
   ]
  },
  {
   "cell_type": "code",
   "execution_count": 24,
   "metadata": {},
   "outputs": [
    {
     "data": {
      "image/png": "[encoded data removed]",
      "text/plain": [
       "<Figure size 864x432 with 1 Axes>"
      ]
     },
     "metadata": {
      "needs_background": "light"
     },
     "output_type": "display_data"
    }
   ],
   "source": [
    "#画以时间为x轴的图,pandas的DataFrame自动将index列作为x轴\n",
    "np.random.seed(2)\n",
    "#生成日期序列\n",
    "x=pd.date_range('2018/01/01','2019/12/31', freq='d')\n",
    "#标准正态分布时间序列\n",
    "y=np.random.standard_normal(len(x))\n",
    "#将二者转换为pandas的数据格式\n",
    "df=pd.DataFrame(y,columns=['标准正态分布'],index=x)\n",
    "df.plot(figsize=(12,6))\n",
    "plt.title('模拟标准正态分布随机数')\n",
    "\n",
    "ax = plt.gca()  \n",
    "ax.spines['right'].set_color('none') \n",
    "ax.spines['top'].set_color('none')  \n",
    "plt.show()"
   ]
  },
  {
   "cell_type": "markdown",
   "metadata": {},
   "source": [
    "## 时间序列的样本重采样\n",
    "时间序列样本转换主要分两种：即高频数据向低频数据转换；低频数据向高频数据转换。  \n",
    "主要函数:df.resample()，df代表pandas的DataFrame格式数据，resample方法的参数参数中，freq表示重采样频率,例如‘M’、‘5min’,Second(15)，用于产生聚合值的函数名或数组函数,例如‘mean’、‘ohlc’、np.max等,默认是‘mean’,其他常用的有:‘first’、‘last’、‘median’、‘max’、‘min’axis=0默认是纵轴,横轴设置axis=1"
   ]
  },
  {
   "cell_type": "markdown",
   "metadata": {},
   "source": [
    "### 高频数据向低频数据转化"
   ]
  },
  {
   "cell_type": "code",
   "execution_count": 71,
   "metadata": {},
   "outputs": [
    {
     "data": {
      "text/html": [
       "<div>\n",
       "<style scoped>\n",
       "    .dataframe tbody tr th:only-of-type {\n",
       "        vertical-align: middle;\n",
       "    }\n",
       "\n",
       "    .dataframe tbody tr th {\n",
       "        vertical-align: top;\n",
       "    }\n",
       "\n",
       "    .dataframe thead th {\n",
       "        text-align: right;\n",
       "    }\n",
       "</style>\n",
       "<table border=\"1\" class=\"dataframe\">\n",
       "  <thead>\n",
       "    <tr style=\"text-align: right;\">\n",
       "      <th></th>\n",
       "      <th>时间</th>\n",
       "      <th>成交</th>\n",
       "      <th>现手</th>\n",
       "    </tr>\n",
       "  </thead>\n",
       "  <tbody>\n",
       "    <tr>\n",
       "      <th>0</th>\n",
       "      <td>09:25:00</td>\n",
       "      <td>2543.85</td>\n",
       "      <td>169975700</td>\n",
       "    </tr>\n",
       "    <tr>\n",
       "      <th>1</th>\n",
       "      <td>09:30:00</td>\n",
       "      <td>2544.64</td>\n",
       "      <td>118762900</td>\n",
       "    </tr>\n",
       "    <tr>\n",
       "      <th>2</th>\n",
       "      <td>09:30:00</td>\n",
       "      <td>2544.34</td>\n",
       "      <td>67005000</td>\n",
       "    </tr>\n",
       "    <tr>\n",
       "      <th>3</th>\n",
       "      <td>09:30:00</td>\n",
       "      <td>2543.88</td>\n",
       "      <td>25638400</td>\n",
       "    </tr>\n",
       "    <tr>\n",
       "      <th>4</th>\n",
       "      <td>09:30:00</td>\n",
       "      <td>2542.83</td>\n",
       "      <td>27602100</td>\n",
       "    </tr>\n",
       "    <tr>\n",
       "      <th>5</th>\n",
       "      <td>09:30:00</td>\n",
       "      <td>2541.97</td>\n",
       "      <td>16822900</td>\n",
       "    </tr>\n",
       "    <tr>\n",
       "      <th>6</th>\n",
       "      <td>09:30:00</td>\n",
       "      <td>2542.48</td>\n",
       "      <td>18605000</td>\n",
       "    </tr>\n",
       "    <tr>\n",
       "      <th>7</th>\n",
       "      <td>09:30:00</td>\n",
       "      <td>2541.34</td>\n",
       "      <td>19279300</td>\n",
       "    </tr>\n",
       "    <tr>\n",
       "      <th>8</th>\n",
       "      <td>09:30:00</td>\n",
       "      <td>2541.32</td>\n",
       "      <td>13209000</td>\n",
       "    </tr>\n",
       "    <tr>\n",
       "      <th>9</th>\n",
       "      <td>09:30:00</td>\n",
       "      <td>2542.49</td>\n",
       "      <td>18115500</td>\n",
       "    </tr>\n",
       "  </tbody>\n",
       "</table>\n",
       "</div>"
      ],
      "text/plain": [
       "         时间       成交         现手\n",
       "0  09:25:00  2543.85  169975700\n",
       "1  09:30:00  2544.64  118762900\n",
       "2  09:30:00  2544.34   67005000\n",
       "3  09:30:00  2543.88   25638400\n",
       "4  09:30:00  2542.83   27602100\n",
       "5  09:30:00  2541.97   16822900\n",
       "6  09:30:00  2542.48   18605000\n",
       "7  09:30:00  2541.34   19279300\n",
       "8  09:30:00  2541.32   13209000\n",
       "9  09:30:00  2542.49   18115500"
      ]
     },
     "execution_count": 71,
     "metadata": {},
     "output_type": "execute_result"
    }
   ],
   "source": [
    "#导入2019年1月10日上证指数的分时数据\n",
    "#数据来源：同花顺\n",
    "df=pd.read_excel('Table.xlsx')\n",
    "df.head(10)"
   ]
  },
  {
   "cell_type": "code",
   "execution_count": 72,
   "metadata": {},
   "outputs": [
    {
     "data": {
      "text/html": [
       "<div>\n",
       "<style scoped>\n",
       "    .dataframe tbody tr th:only-of-type {\n",
       "        vertical-align: middle;\n",
       "    }\n",
       "\n",
       "    .dataframe tbody tr th {\n",
       "        vertical-align: top;\n",
       "    }\n",
       "\n",
       "    .dataframe thead th {\n",
       "        text-align: right;\n",
       "    }\n",
       "</style>\n",
       "<table border=\"1\" class=\"dataframe\">\n",
       "  <thead>\n",
       "    <tr style=\"text-align: right;\">\n",
       "      <th></th>\n",
       "      <th>时间</th>\n",
       "      <th>成交</th>\n",
       "      <th>现手</th>\n",
       "    </tr>\n",
       "    <tr>\n",
       "      <th>时间</th>\n",
       "      <th></th>\n",
       "      <th></th>\n",
       "      <th></th>\n",
       "    </tr>\n",
       "  </thead>\n",
       "  <tbody>\n",
       "    <tr>\n",
       "      <th>09:25:00</th>\n",
       "      <td>09:25:00</td>\n",
       "      <td>2543.85</td>\n",
       "      <td>169975700</td>\n",
       "    </tr>\n",
       "    <tr>\n",
       "      <th>09:30:00</th>\n",
       "      <td>09:30:00</td>\n",
       "      <td>2544.64</td>\n",
       "      <td>118762900</td>\n",
       "    </tr>\n",
       "    <tr>\n",
       "      <th>09:30:00</th>\n",
       "      <td>09:30:00</td>\n",
       "      <td>2544.34</td>\n",
       "      <td>67005000</td>\n",
       "    </tr>\n",
       "    <tr>\n",
       "      <th>09:30:00</th>\n",
       "      <td>09:30:00</td>\n",
       "      <td>2543.88</td>\n",
       "      <td>25638400</td>\n",
       "    </tr>\n",
       "    <tr>\n",
       "      <th>09:30:00</th>\n",
       "      <td>09:30:00</td>\n",
       "      <td>2542.83</td>\n",
       "      <td>27602100</td>\n",
       "    </tr>\n",
       "  </tbody>\n",
       "</table>\n",
       "</div>"
      ],
      "text/plain": [
       "                时间       成交         现手\n",
       "时间                                    \n",
       "09:25:00  09:25:00  2543.85  169975700\n",
       "09:30:00  09:30:00  2544.64  118762900\n",
       "09:30:00  09:30:00  2544.34   67005000\n",
       "09:30:00  09:30:00  2543.88   25638400\n",
       "09:30:00  09:30:00  2542.83   27602100"
      ]
     },
     "execution_count": 72,
     "metadata": {},
     "output_type": "execute_result"
    }
   ],
   "source": [
    "df=df.set_index(df['时间'])\n",
    "df.head()"
   ]
  },
  {
   "cell_type": "code",
   "execution_count": 73,
   "metadata": {},
   "outputs": [
    {
     "data": {
      "image/png": "[encoded data removed]",
      "text/plain": [
       "<Figure size 1152x432 with 1 Axes>"
      ]
     },
     "metadata": {
      "needs_background": "light"
     },
     "output_type": "display_data"
    }
   ],
   "source": [
    "df['成交'].plot(figsize=(16,6),label='成交价格')\n",
    "plt.title('上证综指2019年1月10日分时图',fontsize=15)\n",
    "ax = plt.gca()  \n",
    "ax.spines['right'].set_color('none') \n",
    "ax.spines['top'].set_color('none')  \n",
    "plt.show()"
   ]
  },
  {
   "cell_type": "code",
   "execution_count": 75,
   "metadata": {},
   "outputs": [
    {
     "data": {
      "text/html": [
       "<div>\n",
       "<style scoped>\n",
       "    .dataframe tbody tr th:only-of-type {\n",
       "        vertical-align: middle;\n",
       "    }\n",
       "\n",
       "    .dataframe tbody tr th {\n",
       "        vertical-align: top;\n",
       "    }\n",
       "\n",
       "    .dataframe thead th {\n",
       "        text-align: right;\n",
       "    }\n",
       "</style>\n",
       "<table border=\"1\" class=\"dataframe\">\n",
       "  <thead>\n",
       "    <tr style=\"text-align: right;\">\n",
       "      <th></th>\n",
       "      <th>时间</th>\n",
       "      <th>成交</th>\n",
       "      <th>现手</th>\n",
       "    </tr>\n",
       "    <tr>\n",
       "      <th>时间</th>\n",
       "      <th></th>\n",
       "      <th></th>\n",
       "      <th></th>\n",
       "    </tr>\n",
       "  </thead>\n",
       "  <tbody>\n",
       "    <tr>\n",
       "      <th>1900-01-01 09:25:00</th>\n",
       "      <td>09:25:00</td>\n",
       "      <td>2543.85</td>\n",
       "      <td>169975700</td>\n",
       "    </tr>\n",
       "    <tr>\n",
       "      <th>1900-01-01 09:30:00</th>\n",
       "      <td>09:30:00</td>\n",
       "      <td>2544.64</td>\n",
       "      <td>118762900</td>\n",
       "    </tr>\n",
       "    <tr>\n",
       "      <th>1900-01-01 09:30:00</th>\n",
       "      <td>09:30:00</td>\n",
       "      <td>2544.34</td>\n",
       "      <td>67005000</td>\n",
       "    </tr>\n",
       "    <tr>\n",
       "      <th>1900-01-01 09:30:00</th>\n",
       "      <td>09:30:00</td>\n",
       "      <td>2543.88</td>\n",
       "      <td>25638400</td>\n",
       "    </tr>\n",
       "    <tr>\n",
       "      <th>1900-01-01 09:30:00</th>\n",
       "      <td>09:30:00</td>\n",
       "      <td>2542.83</td>\n",
       "      <td>27602100</td>\n",
       "    </tr>\n",
       "  </tbody>\n",
       "</table>\n",
       "</div>"
      ],
      "text/plain": [
       "                           时间       成交         现手\n",
       "时间                                               \n",
       "1900-01-01 09:25:00  09:25:00  2543.85  169975700\n",
       "1900-01-01 09:30:00  09:30:00  2544.64  118762900\n",
       "1900-01-01 09:30:00  09:30:00  2544.34   67005000\n",
       "1900-01-01 09:30:00  09:30:00  2543.88   25638400\n",
       "1900-01-01 09:30:00  09:30:00  2542.83   27602100"
      ]
     },
     "execution_count": 75,
     "metadata": {},
     "output_type": "execute_result"
    }
   ],
   "source": [
    "df.index=pd.to_datetime(df.index,format='%H:%M:%S')\n",
    "df.head()"
   ]
  },
  {
   "cell_type": "code",
   "execution_count": 76,
   "metadata": {},
   "outputs": [
    {
     "data": {
      "text/plain": [
       "时间\n",
       "1900-01-01 09:25:00    2543.85\n",
       "1900-01-01 09:30:00    2544.64\n",
       "1900-01-01 09:30:00    2544.34\n",
       "1900-01-01 09:30:00    2543.88\n",
       "1900-01-01 09:30:00    2542.83\n",
       "Name: 成交, dtype: float64"
      ]
     },
     "execution_count": 76,
     "metadata": {},
     "output_type": "execute_result"
    }
   ],
   "source": [
    "ts=df['成交']\n",
    "ts.head()"
   ]
  },
  {
   "cell_type": "code",
   "execution_count": 83,
   "metadata": {},
   "outputs": [
    {
     "data": {
      "text/plain": [
       "时间\n",
       "1900-01-01 09:00:00    2539.635000\n",
       "1900-01-01 10:00:00    2541.493264\n",
       "1900-01-01 11:00:00    2544.911878\n",
       "1900-01-01 12:00:00            NaN\n",
       "1900-01-01 13:00:00    2546.391266\n",
       "1900-01-01 14:00:00    2539.339170\n",
       "1900-01-01 15:00:00    2535.080000\n",
       "Freq: H, Name: 成交, dtype: float64"
      ]
     },
     "execution_count": 83,
     "metadata": {},
     "output_type": "execute_result"
    }
   ],
   "source": [
    "#将其转换为每5分钟样本,默认closed='left',label='left'\n",
    "ts.resample('H').mean()"
   ]
  },
  {
   "cell_type": "code",
   "execution_count": 100,
   "metadata": {},
   "outputs": [
    {
     "data": {
      "text/plain": [
       "2017-12-31 23:55:00     0\n",
       "2018-01-01 00:00:00    15\n",
       "2018-01-01 00:05:00    40\n",
       "2018-01-01 00:10:00    11\n",
       "Freq: 5T, dtype: int32"
      ]
     },
     "execution_count": 100,
     "metadata": {},
     "output_type": "execute_result"
    }
   ],
   "source": [
    "ts.resample('5min',closed='right').sum()"
   ]
  },
  {
   "cell_type": "code",
   "execution_count": 101,
   "metadata": {},
   "outputs": [
    {
     "data": {
      "text/plain": [
       "2018-01-01 00:00:00     0\n",
       "2018-01-01 00:05:00    15\n",
       "2018-01-01 00:10:00    40\n",
       "2018-01-01 00:15:00    11\n",
       "Freq: 5T, dtype: int32"
      ]
     },
     "execution_count": 101,
     "metadata": {},
     "output_type": "execute_result"
    }
   ],
   "source": [
    "ts.resample('5min',closed='right',label='right').sum()"
   ]
  },
  {
   "cell_type": "code",
   "execution_count": 102,
   "metadata": {},
   "outputs": [
    {
     "data": {
      "text/plain": [
       "2018-01-01 00:05:00    10\n",
       "2018-01-01 00:10:00    35\n",
       "2018-01-01 00:15:00    21\n",
       "Freq: 5T, dtype: int32"
      ]
     },
     "execution_count": 102,
     "metadata": {},
     "output_type": "execute_result"
    }
   ],
   "source": [
    "ts.resample('5min',closed='left',label='right').sum()"
   ]
  },
  {
   "cell_type": "code",
   "execution_count": 105,
   "metadata": {},
   "outputs": [
    {
     "data": {
      "text/plain": [
       "2017-12-31 23:59:59     0\n",
       "2018-01-01 00:04:59    15\n",
       "2018-01-01 00:09:59    40\n",
       "2018-01-01 00:14:59    11\n",
       "Freq: 5T, dtype: int32"
      ]
     },
     "execution_count": 105,
     "metadata": {},
     "output_type": "execute_result"
    }
   ],
   "source": [
    "ts.resample('5min',closed='right',label='right',loffset='-1s').sum()"
   ]
  },
  {
   "cell_type": "markdown",
   "metadata": {},
   "source": [
    "- 根据groupby进行resampling"
   ]
  },
  {
   "cell_type": "code",
   "execution_count": 108,
   "metadata": {},
   "outputs": [
    {
     "data": {
      "text/plain": [
       "1    15.0\n",
       "2    44.5\n",
       "3    74.0\n",
       "4    94.5\n",
       "dtype: float64"
      ]
     },
     "execution_count": 108,
     "metadata": {},
     "output_type": "execute_result"
    }
   ],
   "source": [
    "rng = pd.date_range('1/1/2018', periods=100, freq='D')\n",
    "ts=pd.Series(np.arange(100),index=rng)\n",
    "#按月进行汇总求平均值\n",
    "ts.groupby(lambda x:x.month).mean()"
   ]
  },
  {
   "cell_type": "code",
   "execution_count": 110,
   "metadata": {},
   "outputs": [
    {
     "data": {
      "text/plain": [
       "0    49.0\n",
       "1    50.0\n",
       "2    47.5\n",
       "3    48.5\n",
       "4    49.5\n",
       "5    50.5\n",
       "6    51.5\n",
       "dtype: float64"
      ]
     },
     "execution_count": 110,
     "metadata": {},
     "output_type": "execute_result"
    }
   ],
   "source": [
    "#按周进行汇总求平均值\n",
    "ts.groupby(lambda x:x.weekday).mean()"
   ]
  },
  {
   "cell_type": "markdown",
   "metadata": {},
   "source": [
    "#### 低频数据向高频数据转换"
   ]
  },
  {
   "cell_type": "code",
   "execution_count": 112,
   "metadata": {},
   "outputs": [],
   "source": [
    "df=pd.DataFrame(np.random.randn(2,4),\n",
    "            index=pd.date_range('1/1/2018',periods=2,freq='W-WED'),\n",
    "            columns=['GZ','BJ','SH','SZ'])"
   ]
  },
  {
   "cell_type": "code",
   "execution_count": 128,
   "metadata": {},
   "outputs": [
    {
     "data": {
      "text/html": [
       "<div>\n",
       "<style scoped>\n",
       "    .dataframe tbody tr th:only-of-type {\n",
       "        vertical-align: middle;\n",
       "    }\n",
       "\n",
       "    .dataframe tbody tr th {\n",
       "        vertical-align: top;\n",
       "    }\n",
       "\n",
       "    .dataframe thead th {\n",
       "        text-align: right;\n",
       "    }\n",
       "</style>\n",
       "<table border=\"1\" class=\"dataframe\">\n",
       "  <thead>\n",
       "    <tr style=\"text-align: right;\">\n",
       "      <th></th>\n",
       "      <th>GZ</th>\n",
       "      <th>BJ</th>\n",
       "      <th>SH</th>\n",
       "      <th>SZ</th>\n",
       "    </tr>\n",
       "  </thead>\n",
       "  <tbody>\n",
       "    <tr>\n",
       "      <th>2018-01-03</th>\n",
       "      <td>0.041539</td>\n",
       "      <td>-1.117925</td>\n",
       "      <td>0.539058</td>\n",
       "      <td>-0.596160</td>\n",
       "    </tr>\n",
       "    <tr>\n",
       "      <th>2018-01-10</th>\n",
       "      <td>-0.019130</td>\n",
       "      <td>1.175001</td>\n",
       "      <td>-0.747871</td>\n",
       "      <td>0.009025</td>\n",
       "    </tr>\n",
       "  </tbody>\n",
       "</table>\n",
       "</div>"
      ],
      "text/plain": [
       "                  GZ        BJ        SH        SZ\n",
       "2018-01-03  0.041539 -1.117925  0.539058 -0.596160\n",
       "2018-01-10 -0.019130  1.175001 -0.747871  0.009025"
      ]
     },
     "execution_count": 128,
     "metadata": {},
     "output_type": "execute_result"
    }
   ],
   "source": [
    "df"
   ]
  },
  {
   "cell_type": "code",
   "execution_count": 122,
   "metadata": {},
   "outputs": [
    {
     "data": {
      "text/html": [
       "<div>\n",
       "<style scoped>\n",
       "    .dataframe tbody tr th:only-of-type {\n",
       "        vertical-align: middle;\n",
       "    }\n",
       "\n",
       "    .dataframe tbody tr th {\n",
       "        vertical-align: top;\n",
       "    }\n",
       "\n",
       "    .dataframe thead th {\n",
       "        text-align: right;\n",
       "    }\n",
       "</style>\n",
       "<table border=\"1\" class=\"dataframe\">\n",
       "  <thead>\n",
       "    <tr style=\"text-align: right;\">\n",
       "      <th></th>\n",
       "      <th>GZ</th>\n",
       "      <th>BJ</th>\n",
       "      <th>SH</th>\n",
       "      <th>SZ</th>\n",
       "    </tr>\n",
       "  </thead>\n",
       "  <tbody>\n",
       "    <tr>\n",
       "      <th>2018-01-03</th>\n",
       "      <td>0.041539</td>\n",
       "      <td>-1.117925</td>\n",
       "      <td>0.539058</td>\n",
       "      <td>-0.596160</td>\n",
       "    </tr>\n",
       "    <tr>\n",
       "      <th>2018-01-04</th>\n",
       "      <td>0.041539</td>\n",
       "      <td>-1.117925</td>\n",
       "      <td>0.539058</td>\n",
       "      <td>-0.596160</td>\n",
       "    </tr>\n",
       "    <tr>\n",
       "      <th>2018-01-05</th>\n",
       "      <td>0.041539</td>\n",
       "      <td>-1.117925</td>\n",
       "      <td>0.539058</td>\n",
       "      <td>-0.596160</td>\n",
       "    </tr>\n",
       "    <tr>\n",
       "      <th>2018-01-06</th>\n",
       "      <td>0.041539</td>\n",
       "      <td>-1.117925</td>\n",
       "      <td>0.539058</td>\n",
       "      <td>-0.596160</td>\n",
       "    </tr>\n",
       "    <tr>\n",
       "      <th>2018-01-07</th>\n",
       "      <td>0.041539</td>\n",
       "      <td>-1.117925</td>\n",
       "      <td>0.539058</td>\n",
       "      <td>-0.596160</td>\n",
       "    </tr>\n",
       "    <tr>\n",
       "      <th>2018-01-08</th>\n",
       "      <td>0.041539</td>\n",
       "      <td>-1.117925</td>\n",
       "      <td>0.539058</td>\n",
       "      <td>-0.596160</td>\n",
       "    </tr>\n",
       "    <tr>\n",
       "      <th>2018-01-09</th>\n",
       "      <td>0.041539</td>\n",
       "      <td>-1.117925</td>\n",
       "      <td>0.539058</td>\n",
       "      <td>-0.596160</td>\n",
       "    </tr>\n",
       "    <tr>\n",
       "      <th>2018-01-10</th>\n",
       "      <td>-0.019130</td>\n",
       "      <td>1.175001</td>\n",
       "      <td>-0.747871</td>\n",
       "      <td>0.009025</td>\n",
       "    </tr>\n",
       "  </tbody>\n",
       "</table>\n",
       "</div>"
      ],
      "text/plain": [
       "                  GZ        BJ        SH        SZ\n",
       "2018-01-03  0.041539 -1.117925  0.539058 -0.596160\n",
       "2018-01-04  0.041539 -1.117925  0.539058 -0.596160\n",
       "2018-01-05  0.041539 -1.117925  0.539058 -0.596160\n",
       "2018-01-06  0.041539 -1.117925  0.539058 -0.596160\n",
       "2018-01-07  0.041539 -1.117925  0.539058 -0.596160\n",
       "2018-01-08  0.041539 -1.117925  0.539058 -0.596160\n",
       "2018-01-09  0.041539 -1.117925  0.539058 -0.596160\n",
       "2018-01-10 -0.019130  1.175001 -0.747871  0.009025"
      ]
     },
     "execution_count": 122,
     "metadata": {},
     "output_type": "execute_result"
    }
   ],
   "source": [
    "#将上述样本转换为日序列,缺失值使用前值补上\n",
    "df_daily=df.resample('D').ffill()\n",
    "df_daily"
   ]
  },
  {
   "cell_type": "code",
   "execution_count": 123,
   "metadata": {},
   "outputs": [
    {
     "data": {
      "text/html": [
       "<div>\n",
       "<style scoped>\n",
       "    .dataframe tbody tr th:only-of-type {\n",
       "        vertical-align: middle;\n",
       "    }\n",
       "\n",
       "    .dataframe tbody tr th {\n",
       "        vertical-align: top;\n",
       "    }\n",
       "\n",
       "    .dataframe thead th {\n",
       "        text-align: right;\n",
       "    }\n",
       "</style>\n",
       "<table border=\"1\" class=\"dataframe\">\n",
       "  <thead>\n",
       "    <tr style=\"text-align: right;\">\n",
       "      <th></th>\n",
       "      <th>GZ</th>\n",
       "      <th>BJ</th>\n",
       "      <th>SH</th>\n",
       "      <th>SZ</th>\n",
       "    </tr>\n",
       "  </thead>\n",
       "  <tbody>\n",
       "    <tr>\n",
       "      <th>2018-01-03</th>\n",
       "      <td>0.041539</td>\n",
       "      <td>-1.117925</td>\n",
       "      <td>0.539058</td>\n",
       "      <td>-0.596160</td>\n",
       "    </tr>\n",
       "    <tr>\n",
       "      <th>2018-01-04</th>\n",
       "      <td>-0.019130</td>\n",
       "      <td>1.175001</td>\n",
       "      <td>-0.747871</td>\n",
       "      <td>0.009025</td>\n",
       "    </tr>\n",
       "    <tr>\n",
       "      <th>2018-01-05</th>\n",
       "      <td>-0.019130</td>\n",
       "      <td>1.175001</td>\n",
       "      <td>-0.747871</td>\n",
       "      <td>0.009025</td>\n",
       "    </tr>\n",
       "    <tr>\n",
       "      <th>2018-01-06</th>\n",
       "      <td>-0.019130</td>\n",
       "      <td>1.175001</td>\n",
       "      <td>-0.747871</td>\n",
       "      <td>0.009025</td>\n",
       "    </tr>\n",
       "    <tr>\n",
       "      <th>2018-01-07</th>\n",
       "      <td>-0.019130</td>\n",
       "      <td>1.175001</td>\n",
       "      <td>-0.747871</td>\n",
       "      <td>0.009025</td>\n",
       "    </tr>\n",
       "    <tr>\n",
       "      <th>2018-01-08</th>\n",
       "      <td>-0.019130</td>\n",
       "      <td>1.175001</td>\n",
       "      <td>-0.747871</td>\n",
       "      <td>0.009025</td>\n",
       "    </tr>\n",
       "    <tr>\n",
       "      <th>2018-01-09</th>\n",
       "      <td>-0.019130</td>\n",
       "      <td>1.175001</td>\n",
       "      <td>-0.747871</td>\n",
       "      <td>0.009025</td>\n",
       "    </tr>\n",
       "    <tr>\n",
       "      <th>2018-01-10</th>\n",
       "      <td>-0.019130</td>\n",
       "      <td>1.175001</td>\n",
       "      <td>-0.747871</td>\n",
       "      <td>0.009025</td>\n",
       "    </tr>\n",
       "  </tbody>\n",
       "</table>\n",
       "</div>"
      ],
      "text/plain": [
       "                  GZ        BJ        SH        SZ\n",
       "2018-01-03  0.041539 -1.117925  0.539058 -0.596160\n",
       "2018-01-04 -0.019130  1.175001 -0.747871  0.009025\n",
       "2018-01-05 -0.019130  1.175001 -0.747871  0.009025\n",
       "2018-01-06 -0.019130  1.175001 -0.747871  0.009025\n",
       "2018-01-07 -0.019130  1.175001 -0.747871  0.009025\n",
       "2018-01-08 -0.019130  1.175001 -0.747871  0.009025\n",
       "2018-01-09 -0.019130  1.175001 -0.747871  0.009025\n",
       "2018-01-10 -0.019130  1.175001 -0.747871  0.009025"
      ]
     },
     "execution_count": 123,
     "metadata": {},
     "output_type": "execute_result"
    }
   ],
   "source": [
    "#将上述样本转换为日序列,缺失值使用后值补上\n",
    "df_daily=df.resample('D').bfill()\n",
    "df_daily"
   ]
  },
  {
   "cell_type": "code",
   "execution_count": 127,
   "metadata": {},
   "outputs": [
    {
     "data": {
      "text/html": [
       "<div>\n",
       "<style scoped>\n",
       "    .dataframe tbody tr th:only-of-type {\n",
       "        vertical-align: middle;\n",
       "    }\n",
       "\n",
       "    .dataframe tbody tr th {\n",
       "        vertical-align: top;\n",
       "    }\n",
       "\n",
       "    .dataframe thead th {\n",
       "        text-align: right;\n",
       "    }\n",
       "</style>\n",
       "<table border=\"1\" class=\"dataframe\">\n",
       "  <thead>\n",
       "    <tr style=\"text-align: right;\">\n",
       "      <th></th>\n",
       "      <th>GZ</th>\n",
       "      <th>BJ</th>\n",
       "      <th>SH</th>\n",
       "      <th>SZ</th>\n",
       "    </tr>\n",
       "  </thead>\n",
       "  <tbody>\n",
       "    <tr>\n",
       "      <th>2018-01-03</th>\n",
       "      <td>0.041539</td>\n",
       "      <td>-1.117925</td>\n",
       "      <td>0.539058</td>\n",
       "      <td>-0.596160</td>\n",
       "    </tr>\n",
       "    <tr>\n",
       "      <th>2018-01-04</th>\n",
       "      <td>NaN</td>\n",
       "      <td>NaN</td>\n",
       "      <td>NaN</td>\n",
       "      <td>NaN</td>\n",
       "    </tr>\n",
       "    <tr>\n",
       "      <th>2018-01-05</th>\n",
       "      <td>NaN</td>\n",
       "      <td>NaN</td>\n",
       "      <td>NaN</td>\n",
       "      <td>NaN</td>\n",
       "    </tr>\n",
       "    <tr>\n",
       "      <th>2018-01-06</th>\n",
       "      <td>NaN</td>\n",
       "      <td>NaN</td>\n",
       "      <td>NaN</td>\n",
       "      <td>NaN</td>\n",
       "    </tr>\n",
       "    <tr>\n",
       "      <th>2018-01-07</th>\n",
       "      <td>NaN</td>\n",
       "      <td>NaN</td>\n",
       "      <td>NaN</td>\n",
       "      <td>NaN</td>\n",
       "    </tr>\n",
       "    <tr>\n",
       "      <th>2018-01-08</th>\n",
       "      <td>NaN</td>\n",
       "      <td>NaN</td>\n",
       "      <td>NaN</td>\n",
       "      <td>NaN</td>\n",
       "    </tr>\n",
       "    <tr>\n",
       "      <th>2018-01-09</th>\n",
       "      <td>NaN</td>\n",
       "      <td>NaN</td>\n",
       "      <td>NaN</td>\n",
       "      <td>NaN</td>\n",
       "    </tr>\n",
       "    <tr>\n",
       "      <th>2018-01-10</th>\n",
       "      <td>-0.019130</td>\n",
       "      <td>1.175001</td>\n",
       "      <td>-0.747871</td>\n",
       "      <td>0.009025</td>\n",
       "    </tr>\n",
       "  </tbody>\n",
       "</table>\n",
       "</div>"
      ],
      "text/plain": [
       "                  GZ        BJ        SH        SZ\n",
       "2018-01-03  0.041539 -1.117925  0.539058 -0.596160\n",
       "2018-01-04       NaN       NaN       NaN       NaN\n",
       "2018-01-05       NaN       NaN       NaN       NaN\n",
       "2018-01-06       NaN       NaN       NaN       NaN\n",
       "2018-01-07       NaN       NaN       NaN       NaN\n",
       "2018-01-08       NaN       NaN       NaN       NaN\n",
       "2018-01-09       NaN       NaN       NaN       NaN\n",
       "2018-01-10 -0.019130  1.175001 -0.747871  0.009025"
      ]
     },
     "execution_count": 127,
     "metadata": {},
     "output_type": "execute_result"
    }
   ],
   "source": [
    "df_daily=df.resample('D').mean()\n",
    "df_daily"
   ]
  },
  {
   "cell_type": "code",
   "execution_count": 131,
   "metadata": {},
   "outputs": [],
   "source": [
    "#根据period来重采样\n",
    "df=pd.DataFrame(np.random.randn(24,4),\n",
    "            index=pd.period_range('1-2017','12-2018',freq='M'),\n",
    "            columns=['GZ','BJ','SH','SZ'])"
   ]
  },
  {
   "cell_type": "code",
   "execution_count": 133,
   "metadata": {},
   "outputs": [
    {
     "data": {
      "text/html": [
       "<div>\n",
       "<style scoped>\n",
       "    .dataframe tbody tr th:only-of-type {\n",
       "        vertical-align: middle;\n",
       "    }\n",
       "\n",
       "    .dataframe tbody tr th {\n",
       "        vertical-align: top;\n",
       "    }\n",
       "\n",
       "    .dataframe thead th {\n",
       "        text-align: right;\n",
       "    }\n",
       "</style>\n",
       "<table border=\"1\" class=\"dataframe\">\n",
       "  <thead>\n",
       "    <tr style=\"text-align: right;\">\n",
       "      <th></th>\n",
       "      <th>GZ</th>\n",
       "      <th>BJ</th>\n",
       "      <th>SH</th>\n",
       "      <th>SZ</th>\n",
       "    </tr>\n",
       "  </thead>\n",
       "  <tbody>\n",
       "    <tr>\n",
       "      <th>2017-01</th>\n",
       "      <td>-0.878108</td>\n",
       "      <td>-0.156434</td>\n",
       "      <td>0.256570</td>\n",
       "      <td>-0.988779</td>\n",
       "    </tr>\n",
       "    <tr>\n",
       "      <th>2017-02</th>\n",
       "      <td>-0.338822</td>\n",
       "      <td>-0.236184</td>\n",
       "      <td>-0.637655</td>\n",
       "      <td>-1.187612</td>\n",
       "    </tr>\n",
       "    <tr>\n",
       "      <th>2017-03</th>\n",
       "      <td>-1.421217</td>\n",
       "      <td>-0.153495</td>\n",
       "      <td>-0.269057</td>\n",
       "      <td>2.231367</td>\n",
       "    </tr>\n",
       "  </tbody>\n",
       "</table>\n",
       "</div>"
      ],
      "text/plain": [
       "               GZ        BJ        SH        SZ\n",
       "2017-01 -0.878108 -0.156434  0.256570 -0.988779\n",
       "2017-02 -0.338822 -0.236184 -0.637655 -1.187612\n",
       "2017-03 -1.421217 -0.153495 -0.269057  2.231367"
      ]
     },
     "execution_count": 133,
     "metadata": {},
     "output_type": "execute_result"
    }
   ],
   "source": [
    "df[:3]"
   ]
  },
  {
   "cell_type": "code",
   "execution_count": 134,
   "metadata": {},
   "outputs": [
    {
     "data": {
      "text/html": [
       "<div>\n",
       "<style scoped>\n",
       "    .dataframe tbody tr th:only-of-type {\n",
       "        vertical-align: middle;\n",
       "    }\n",
       "\n",
       "    .dataframe tbody tr th {\n",
       "        vertical-align: top;\n",
       "    }\n",
       "\n",
       "    .dataframe thead th {\n",
       "        text-align: right;\n",
       "    }\n",
       "</style>\n",
       "<table border=\"1\" class=\"dataframe\">\n",
       "  <thead>\n",
       "    <tr style=\"text-align: right;\">\n",
       "      <th></th>\n",
       "      <th>GZ</th>\n",
       "      <th>BJ</th>\n",
       "      <th>SH</th>\n",
       "      <th>SZ</th>\n",
       "    </tr>\n",
       "  </thead>\n",
       "  <tbody>\n",
       "    <tr>\n",
       "      <th>2017</th>\n",
       "      <td>-0.643001</td>\n",
       "      <td>-0.033892</td>\n",
       "      <td>-0.050309</td>\n",
       "      <td>0.138446</td>\n",
       "    </tr>\n",
       "    <tr>\n",
       "      <th>2018</th>\n",
       "      <td>-0.312618</td>\n",
       "      <td>0.215501</td>\n",
       "      <td>0.087790</td>\n",
       "      <td>0.159978</td>\n",
       "    </tr>\n",
       "  </tbody>\n",
       "</table>\n",
       "</div>"
      ],
      "text/plain": [
       "            GZ        BJ        SH        SZ\n",
       "2017 -0.643001 -0.033892 -0.050309  0.138446\n",
       "2018 -0.312618  0.215501  0.087790  0.159978"
      ]
     },
     "execution_count": 134,
     "metadata": {},
     "output_type": "execute_result"
    }
   ],
   "source": [
    "#A-DEC: annually, year ending in December\n",
    "df_annual=df.resample('A-DEC').mean()\n",
    "df_annual"
   ]
  },
  {
   "cell_type": "code",
   "execution_count": 138,
   "metadata": {},
   "outputs": [
    {
     "data": {
      "text/html": [
       "<div>\n",
       "<style scoped>\n",
       "    .dataframe tbody tr th:only-of-type {\n",
       "        vertical-align: middle;\n",
       "    }\n",
       "\n",
       "    .dataframe tbody tr th {\n",
       "        vertical-align: top;\n",
       "    }\n",
       "\n",
       "    .dataframe thead th {\n",
       "        text-align: right;\n",
       "    }\n",
       "</style>\n",
       "<table border=\"1\" class=\"dataframe\">\n",
       "  <thead>\n",
       "    <tr style=\"text-align: right;\">\n",
       "      <th></th>\n",
       "      <th>GZ</th>\n",
       "      <th>BJ</th>\n",
       "      <th>SH</th>\n",
       "      <th>SZ</th>\n",
       "    </tr>\n",
       "  </thead>\n",
       "  <tbody>\n",
       "    <tr>\n",
       "      <th>2017Q1</th>\n",
       "      <td>-0.643001</td>\n",
       "      <td>-0.033892</td>\n",
       "      <td>-0.050309</td>\n",
       "      <td>0.138446</td>\n",
       "    </tr>\n",
       "    <tr>\n",
       "      <th>2017Q2</th>\n",
       "      <td>-0.643001</td>\n",
       "      <td>-0.033892</td>\n",
       "      <td>-0.050309</td>\n",
       "      <td>0.138446</td>\n",
       "    </tr>\n",
       "    <tr>\n",
       "      <th>2017Q3</th>\n",
       "      <td>-0.643001</td>\n",
       "      <td>-0.033892</td>\n",
       "      <td>-0.050309</td>\n",
       "      <td>0.138446</td>\n",
       "    </tr>\n",
       "    <tr>\n",
       "      <th>2017Q4</th>\n",
       "      <td>-0.643001</td>\n",
       "      <td>-0.033892</td>\n",
       "      <td>-0.050309</td>\n",
       "      <td>0.138446</td>\n",
       "    </tr>\n",
       "    <tr>\n",
       "      <th>2018Q1</th>\n",
       "      <td>-0.312618</td>\n",
       "      <td>0.215501</td>\n",
       "      <td>0.087790</td>\n",
       "      <td>0.159978</td>\n",
       "    </tr>\n",
       "    <tr>\n",
       "      <th>2018Q2</th>\n",
       "      <td>-0.312618</td>\n",
       "      <td>0.215501</td>\n",
       "      <td>0.087790</td>\n",
       "      <td>0.159978</td>\n",
       "    </tr>\n",
       "    <tr>\n",
       "      <th>2018Q3</th>\n",
       "      <td>-0.312618</td>\n",
       "      <td>0.215501</td>\n",
       "      <td>0.087790</td>\n",
       "      <td>0.159978</td>\n",
       "    </tr>\n",
       "    <tr>\n",
       "      <th>2018Q4</th>\n",
       "      <td>-0.312618</td>\n",
       "      <td>0.215501</td>\n",
       "      <td>0.087790</td>\n",
       "      <td>0.159978</td>\n",
       "    </tr>\n",
       "  </tbody>\n",
       "</table>\n",
       "</div>"
      ],
      "text/plain": [
       "              GZ        BJ        SH        SZ\n",
       "2017Q1 -0.643001 -0.033892 -0.050309  0.138446\n",
       "2017Q2 -0.643001 -0.033892 -0.050309  0.138446\n",
       "2017Q3 -0.643001 -0.033892 -0.050309  0.138446\n",
       "2017Q4 -0.643001 -0.033892 -0.050309  0.138446\n",
       "2018Q1 -0.312618  0.215501  0.087790  0.159978\n",
       "2018Q2 -0.312618  0.215501  0.087790  0.159978\n",
       "2018Q3 -0.312618  0.215501  0.087790  0.159978\n",
       "2018Q4 -0.312618  0.215501  0.087790  0.159978"
      ]
     },
     "execution_count": 138,
     "metadata": {},
     "output_type": "execute_result"
    }
   ],
   "source": [
    "#Q-DEC: Quarterly, decenber\n",
    "df_annual.resample('Q-DEC').ffill()"
   ]
  },
  {
   "cell_type": "code",
   "execution_count": null,
   "metadata": {},
   "outputs": [],
   "source": []
  },
  {
   "cell_type": "code",
   "execution_count": null,
   "metadata": {},
   "outputs": [],
   "source": []
  },
  {
   "cell_type": "code",
   "execution_count": null,
   "metadata": {},
   "outputs": [],
   "source": []
  },
  {
   "cell_type": "code",
   "execution_count": null,
   "metadata": {},
   "outputs": [],
   "source": []
  },
  {
   "cell_type": "code",
   "execution_count": null,
   "metadata": {},
   "outputs": [],
   "source": []
  }
 ],
 "metadata": {
  "hide_input": false,
  "kernelspec": {
   "display_name": "Python 3",
   "language": "python",
   "name": "python3"
  },
  "language_info": {
   "codemirror_mode": {
    "name": "ipython",
    "version": 3
   },
   "file_extension": ".py",
   "mimetype": "text/x-python",
   "name": "python",
   "nbconvert_exporter": "python",
   "pygments_lexer": "ipython3",
   "version": "3.7.1"
  },
  "toc": {
   "base_numbering": 1,
   "nav_menu": {},
   "number_sections": true,
   "sideBar": true,
   "skip_h1_title": false,
   "title_cell": "Table of Contents",
   "title_sidebar": "Contents",
   "toc_cell": false,
   "toc_position": {},
   "toc_section_display": true,
   "toc_window_display": false
  }
 },
 "nbformat": 4,
 "nbformat_minor": 2
}
